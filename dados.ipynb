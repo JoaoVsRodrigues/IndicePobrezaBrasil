{
 "cells": [
  {
   "cell_type": "markdown",
   "metadata": {},
   "source": [
    "Dado que se existem duas bases de dados no estudo e de maneira mais prática e rápida o melhor de se analisar de maneira superficial é o anual, ele será usado nessa análise"
   ]
  },
  {
   "cell_type": "markdown",
   "metadata": {},
   "source": [
    "Bibliotecas usadas"
   ]
  },
  {
   "cell_type": "code",
   "execution_count": null,
   "metadata": {},
   "outputs": [],
   "source": [
    "import pandas as pd\n",
    "import matplotlib.pyplot as plt"
   ]
  },
  {
   "cell_type": "markdown",
   "metadata": {},
   "source": [
    "Importando dados"
   ]
  },
  {
   "cell_type": "code",
   "execution_count": null,
   "metadata": {},
   "outputs": [],
   "source": [
    "dados = pd.read_csv('indices_pobreza_consolidado_anual.csv', sep=';')\n",
    "dados.head(), dados.shape\n",
    "dados"
   ]
  },
  {
   "cell_type": "markdown",
   "metadata": {},
   "source": [
    "Limpeza"
   ]
  },
  {
   "cell_type": "code",
   "execution_count": null,
   "metadata": {},
   "outputs": [],
   "source": [
    "for colunas in dados.columns[6:]:\n",
    "    dados.drop(columns=colunas, inplace= True)\n",
    "dados.drop(columns='periodo', inplace=True)"
   ]
  },
  {
   "cell_type": "markdown",
   "metadata": {},
   "source": [
    "Primeiro vamos transformar os dados em percentuais para facilitar o entendimento"
   ]
  },
  {
   "cell_type": "code",
   "execution_count": null,
   "metadata": {},
   "outputs": [],
   "source": [
    "dados['porcentagem_pobreza'] = (dados['pobreza'] / dados['populacao_estimada']) * 100\n",
    "dados['porcentagem_extrema_pobreza'] = (dados['extrema_pobreza'] / dados['populacao_estimada']) * 100\n",
    "dados['total_em_pobreza'] = (dados['total'] / dados['populacao_estimada']) * 100"
   ]
  },
  {
   "cell_type": "markdown",
   "metadata": {},
   "source": [
    "Ver os dados de pobreza e extrema pobreza separadamente"
   ]
  },
  {
   "cell_type": "code",
   "execution_count": null,
   "metadata": {},
   "outputs": [],
   "source": [
    "fig, axs = plt.subplots(1, 2, figsize=(12, 6))\n",
    "axs[0].plot(dados['referencia'], dados['porcentagem_pobreza'], marker = 'o', linestyle='--', color='green', label = 'pobreza')\n",
    "axs[0].set_title('pobreza')\n",
    "axs[0].set_ylabel('População em pobreza %')\n",
    "axs[1].plot(dados['referencia'], dados['porcentagem_extrema_pobreza'], marker = 'o', linestyle='--', color='red', label = 'Extrema pobreza')\n",
    "axs[1].set_title('Extrema pobreza')\n",
    "axs[1].set_ylabel('População em extrema pobreza %')\n",
    "\n",
    "plt.tight_layout()\n",
    "plt.show()"
   ]
  },
  {
   "cell_type": "markdown",
   "metadata": {},
   "source": [
    "Analisando os dados acima, podemos ver algo curioso acontecendo, ao mesmo tempo que a pobreza diminui nos anos após 2016, a extrema pobreza aumenta, isso só é possível se a população na linha da pobreza descer dela, indo para a extrema pobreza, precisaremos analisar de maneira mais detalhada os anos antes da crise politica brasileira e depois da crise politica brasileira, analisaremos primeiro os anos de 2012 até 2016, ano do impeachment da então presidente Dilma Rousseff"
   ]
  },
  {
   "cell_type": "markdown",
   "metadata": {},
   "source": [
    "2012 até 2016"
   ]
  },
  {
   "cell_type": "code",
   "execution_count": null,
   "metadata": {},
   "outputs": [],
   "source": [
    "ano12 = dados['referencia'][:5]\n",
    "pobreza12 = dados['porcentagem_pobreza'][:5]\n",
    "extrema_pobreza12 = dados['porcentagem_extrema_pobreza'][:5]"
   ]
  },
  {
   "cell_type": "code",
   "execution_count": null,
   "metadata": {},
   "outputs": [],
   "source": [
    "fig, axs = plt.subplots(1,2, figsize = (12,6))\n",
    "axs[0].plot(ano12, pobreza12, marker = 'o', linestyle = '-', color = 'green', label = 'Pobreza no ano de 2015 até 2015')\n",
    "axs[0].set_title('Pobreza 2012 até 2016');\n",
    "axs[0].set_ylabel('População em pobreza %')\n",
    "axs[0].set_xticks(ano12);\n",
    "\n",
    "axs[1].plot(ano12, extrema_pobreza12, marker = 'o', linestyle = '-', color = 'red')\n",
    "axs[1].set_title('Extrema pobreza 2012 até 2016');\n",
    "axs[1].set_xticks(ano12);\n",
    "axs[1].set_ylabel('População em extrema pobreza %')"
   ]
  },
  {
   "cell_type": "markdown",
   "metadata": {},
   "source": [
    "Analisando dessa forma podemos ver que os dados acompanham as quedas, seguem o mesmo padrão de queda continua após 2014, diferente dos anos de 2017 pra frente"
   ]
  },
  {
   "cell_type": "markdown",
   "metadata": {},
   "source": [
    "2017 até 2022"
   ]
  },
  {
   "cell_type": "code",
   "execution_count": null,
   "metadata": {},
   "outputs": [],
   "source": [
    "pobreza16 = dados['porcentagem_pobreza'][5:]\n",
    "ano16 = dados['referencia'][5:]\n",
    "extrema_pobreza16 = dados['porcentagem_extrema_pobreza'][5:]"
   ]
  },
  {
   "cell_type": "code",
   "execution_count": null,
   "metadata": {},
   "outputs": [],
   "source": [
    "fig, axs = plt.subplots(1, 2, figsize = (12,6))\n",
    "axs[0].plot(ano16, pobreza16, marker = 'o', linestyle= '--', color = 'green')\n",
    "axs[0].set_title('Pobreza 2017 até 2022');\n",
    "axs[0].set_xlabel('Ano')\n",
    "axs[0].set_ylabel('População em %')\n",
    "\n",
    "axs[1].plot(ano16, extrema_pobreza16, marker='o', linestyle='--', color = 'red')\n",
    "axs[1].set_title('Extrema pobreza de 2017 até 2022');\n",
    "axs[1].set_xlabel('Ano')\n",
    "axs[1].set_ylabel('População em %')"
   ]
  },
  {
   "cell_type": "markdown",
   "metadata": {},
   "source": [
    "Como podemos ver acima, os dados indicam que as suspeitas estavam corretas, iremos comparar pré 2017 antes de irmos aos dados totais da população em situação de pobreza e extrema pobreza"
   ]
  },
  {
   "cell_type": "code",
   "execution_count": null,
   "metadata": {},
   "outputs": [],
   "source": [
    "fig, axs = plt.subplots(2, 2, figsize = (10, 5))\n",
    "axs[0, 0].plot(ano12, pobreza12, marker = 'o', linestyle = '-', color = 'green', label = 'Pobreza no ano de 2015 até 2015')\n",
    "axs[0, 0].set_title('Pobreza 2012 até 2016')\n",
    "axs[0, 0].set_xticks(ano12)\n",
    "axs[0,0].set_xlabel('Ano')\n",
    "axs[0,0].set_ylabel('População em %')\n",
    "\n",
    "axs[0, 1].plot(ano12, extrema_pobreza12, marker = 'o', linestyle = '-', color = 'red')\n",
    "axs[0, 1].set_title('Extrema pobreza 2012 até 2016')\n",
    "axs[0, 1].set_xticks(ano12)\n",
    "axs[0, 1].set_xlabel('Ano')\n",
    "axs[0, 1].set_ylabel('População em %')\n",
    "\n",
    "axs[1, 0].plot(ano16, pobreza16, marker = 'o', linestyle= '--', color = 'green')\n",
    "axs[1, 0 ].set_title('Pobreza de 2017 até 2022')\n",
    "axs[1, 0].set_xlabel('Ano')\n",
    "axs[1, 0].set_ylabel('População em %')\n",
    "\n",
    "axs[1, 1].plot(ano16, extrema_pobreza16, marker='o', linestyle='--', color = 'red')\n",
    "axs[1, 1].set_title('Extrema pobreza de 2017 até 2022')\n",
    "axs[1, 1].set_xlabel('Ano')\n",
    "axs[1, 1].set_ylabel('População em %')\n",
    "\n",
    "plt.tight_layout()"
   ]
  },
  {
   "cell_type": "markdown",
   "metadata": {},
   "source": [
    "Ao compararmos lado a lado os 4 gráficos, podemos ver que seguem um padrão de aumento de extrema pobreza e redução de pobreza, iremos analisar o total da população em pobreza e extrema pobreza para tirar conclusões finais"
   ]
  },
  {
   "cell_type": "code",
   "execution_count": null,
   "metadata": {},
   "outputs": [],
   "source": [
    "total_pobreza12 = dados['total_em_pobreza'][:5]\n",
    "total_pobreza16 = dados['total_em_pobreza'][5:]\n"
   ]
  },
  {
   "cell_type": "code",
   "execution_count": null,
   "metadata": {},
   "outputs": [],
   "source": [
    "fig, axs = plt.subplots(1, 2, figsize=(12,6))\n",
    "\n",
    "axs[0].plot(ano12, total_pobreza12, marker = 'o', linestyle = '-', color = 'green')\n",
    "axs[0].set_xticks(ano12);\n",
    "axs[0].set_title('Total da população em pobreza e extrema pobreza de 2012 até 2016')\n",
    "axs[0].set_xlabel('Ano')\n",
    "axs[0].set_ylabel('População em %')\n",
    "\n",
    "axs[1].plot(ano16, total_pobreza16, marker = 'o', linestyle = '--', color = 'red')\n",
    "axs[1].set_xticks(ano16);\n",
    "axs[1].set_title('Total da população em pobreza e extrema pobreza de 2017 até 2022')\n",
    "axs[1].set_xlabel('Ano')\n",
    "axs[1].set_ylabel('População em %')\n",
    "\n",
    "plt.tight_layout()"
   ]
  },
  {
   "cell_type": "markdown",
   "metadata": {},
   "source": [
    "De maneira geral, a análise dos dados nos mostra uma acentuada subida no níveis de população na pobreza e extrema pobreza nos anos pós crise política de 2016.\n",
    "Crises politicas de um modo geral tendem a acentuar níveis ruins de índices econômicos, analisar de forma mais crítica é necessário e principalmente analisar o contexto político que o Brasil estava inserido em ambos os gráficos."
   ]
  },
  {
   "cell_type": "code",
   "execution_count": null,
   "metadata": {},
   "outputs": [],
   "source": [
    "total_pobreza_12 = dados['total_em_pobreza'][:5]\n",
    "total_pobreza_16 = dados['total_em_pobreza'][5:]"
   ]
  },
  {
   "cell_type": "code",
   "execution_count": null,
   "metadata": {},
   "outputs": [],
   "source": [
    "fig, ax = plt.subplots(figsize = (12, 6))\n",
    "plt.plot(ano12+1, total_pobreza12-0.1, color = 'green', marker = 'o', linestyle = '-', label = 'Antes do impeachment')\n",
    "plt.plot(ano16, total_pobreza_16, color = 'red', marker = 'o', linestyle = '--', label = 'Depois do impeachment');\n",
    "ax.set_facecolor('#f5f5f5')\n",
    "ax.set_title('Índice total de pobreza e extrema pobreza')\n",
    "ax.set_xlabel('Ano')\n",
    "ax.set_ylabel('População em %')\n",
    "plt.legend();"
   ]
  }
 ],
 "metadata": {
  "kernelspec": {
   "display_name": "Python 3",
   "language": "python",
   "name": "python3"
  },
  "language_info": {
   "codemirror_mode": {
    "name": "ipython",
    "version": 3
   },
   "file_extension": ".py",
   "mimetype": "text/x-python",
   "name": "python",
   "nbconvert_exporter": "python",
   "pygments_lexer": "ipython3",
   "version": "3.12.3"
  }
 },
 "nbformat": 4,
 "nbformat_minor": 2
}
